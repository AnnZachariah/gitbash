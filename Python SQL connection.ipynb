{
 "cells": [
  {
   "cell_type": "code",
   "execution_count": 5,
   "id": "df6cac14",
   "metadata": {},
   "outputs": [
    {
     "name": "stdout",
     "output_type": "stream",
     "text": [
      "<mysql.connector.connection_cext.CMySQLConnection object at 0x00000276C891E0C8>\n"
     ]
    }
   ],
   "source": [
    "import mysql.connector\n",
    "conn=mysql.connector.connect(host=\"localhost\",user=\"root\",password=\"Ann1020\")\n",
    "\n",
    "print(conn)"
   ]
  },
  {
   "cell_type": "code",
   "execution_count": 6,
   "id": "97ba80ee",
   "metadata": {},
   "outputs": [],
   "source": [
    "c=conn.cursor()"
   ]
  },
  {
   "cell_type": "code",
   "execution_count": 7,
   "id": "adb7f316",
   "metadata": {},
   "outputs": [
    {
     "name": "stdout",
     "output_type": "stream",
     "text": [
      "CMySQLCursor: (Nothing executed yet)\n"
     ]
    }
   ],
   "source": [
    "print(c)"
   ]
  },
  {
   "cell_type": "code",
   "execution_count": 8,
   "id": "e7162898",
   "metadata": {},
   "outputs": [],
   "source": [
    "c.execute(\"show databases\")"
   ]
  },
  {
   "cell_type": "code",
   "execution_count": 9,
   "id": "e90e1f96",
   "metadata": {},
   "outputs": [
    {
     "name": "stdout",
     "output_type": "stream",
     "text": [
      "('ann',)\n",
      "('employees',)\n",
      "('employees_mod',)\n",
      "('information_schema',)\n",
      "('mysql',)\n",
      "('performance_schema',)\n",
      "('sys',)\n"
     ]
    }
   ],
   "source": [
    "for i in c:\n",
    "    print(i)"
   ]
  },
  {
   "cell_type": "code",
   "execution_count": 10,
   "id": "26184cc6",
   "metadata": {},
   "outputs": [],
   "source": [
    "import mysql.connector\n",
    "conn=mysql.connector.connect(host=\"localhost\",user=\"root\",password=\"Ann1020\")\n",
    "c=conn.cursor()\n",
    "c.execute(\"create database ann_task1\")"
   ]
  },
  {
   "cell_type": "code",
   "execution_count": 12,
   "id": "f72b6865",
   "metadata": {},
   "outputs": [],
   "source": [
    "c.execute(\"show databases\")"
   ]
  },
  {
   "cell_type": "code",
   "execution_count": 13,
   "id": "c457b31d",
   "metadata": {},
   "outputs": [
    {
     "name": "stdout",
     "output_type": "stream",
     "text": [
      "('ann',)\n",
      "('ann_task1',)\n",
      "('employees',)\n",
      "('employees_mod',)\n",
      "('information_schema',)\n",
      "('mysql',)\n",
      "('performance_schema',)\n",
      "('sys',)\n"
     ]
    }
   ],
   "source": [
    "for i in c:\n",
    "    print(i)"
   ]
  },
  {
   "cell_type": "code",
   "execution_count": 27,
   "id": "193d896d",
   "metadata": {},
   "outputs": [],
   "source": [
    "#single student entry\n",
    "import mysql.connector\n",
    "conn=mysql.connector.connect(host=\"localhost\",user=\"root\",password=\"Ann1020\",database=\"ann_task1\")\n",
    "c=conn.cursor()\n",
    "cur=conn.cursor()\n",
    "q=\"insert into student values(%s,%s,%s)\"\n",
    "v=(182000,\"Riya\",\"Mech\")\n",
    "#c.execute(\"create table student (roll_no int not null primary key,fname varchar(20) not null, branch varchar(20) not null)\")\n",
    "try:\n",
    "    cur.execute(q,v)\n",
    "    conn.commit()\n",
    "except:\n",
    "    conn.rollback()\n",
    "\n",
    "    \n",
    "conn.close()"
   ]
  },
  {
   "cell_type": "code",
   "execution_count": 34,
   "id": "557163cf",
   "metadata": {},
   "outputs": [],
   "source": [
    "#multiple student entry\n",
    "import mysql.connector\n",
    "conn=mysql.connector.connect(host=\"localhost\",user=\"root\",password=\"Ann1020\",database=\"ann_task1\")\n",
    "c=conn.cursor()\n",
    "cur=conn.cursor()\n",
    "q=\"insert into student values(%s,%s,%s)\"\n",
    "v=[(182007,\"Rhea\",\"Extc\"),(180222,\"Aive\",\"IT\")]\n",
    "#c.execute(\"create table student (roll_no int not null primary key,fname varchar(20) not null, branch varchar(20) not null)\")\n",
    "try:\n",
    "    cur.executemany(q,v)\n",
    "    conn.commit()\n",
    "except:\n",
    "    conn.rollback()\n",
    "\n",
    "    \n",
    "conn.close()"
   ]
  },
  {
   "cell_type": "code",
   "execution_count": null,
   "id": "3c52c55f",
   "metadata": {},
   "outputs": [],
   "source": [
    "#alter\n",
    "import mysql.connector\n",
    "conn=mysql.connector.connect(host=\"localhost\",user=\"root\",password=\"Ann1020\",database=\"ann_task1\")\n",
    "c=conn.cursor()\n",
    "cur=conn.cursor()\n",
    "\n",
    "q=cur.execute(\"alter table student add location varchar(10) default 'Mumbai'\")\n",
    "\n",
    "try:\n",
    "    cur.execute(q)\n",
    "    conn.commit()\n",
    "except:\n",
    "    conn.rollback()\n",
    "\n",
    "    \n",
    "conn.close()"
   ]
  },
  {
   "cell_type": "code",
   "execution_count": 46,
   "id": "0d785a0d",
   "metadata": {},
   "outputs": [],
   "source": [
    "#update\n",
    "import mysql.connector\n",
    "conn=mysql.connector.connect(host=\"localhost\",user=\"root\",password=\"Ann1020\",database=\"ann_task1\")\n",
    "conn.cursor()\n",
    "cur=conn.cursor()\n",
    "\n",
    "cur.execute(\"update student set fname='Ann Zachariah' where roll_no=182001\")\n",
    "\n",
    "conn.commit()\n",
    "    \n",
    "conn.close()"
   ]
  },
  {
   "cell_type": "code",
   "execution_count": 51,
   "id": "84bacace",
   "metadata": {},
   "outputs": [],
   "source": [
    "#delete\n",
    "import mysql.connector\n",
    "conn=mysql.connector.connect(host=\"localhost\",user=\"root\",password=\"Ann1020\",database=\"ann_task1\")\n",
    "conn.cursor()\n",
    "cur=conn.cursor()\n",
    "\n",
    "cur.execute(\"delete from student where fname='Ann Zachariah'\")\n",
    "\n",
    "conn.commit()\n",
    "    \n",
    "conn.close()"
   ]
  },
  {
   "cell_type": "code",
   "execution_count": null,
   "id": "c1582987",
   "metadata": {},
   "outputs": [],
   "source": []
  },
  {
   "cell_type": "code",
   "execution_count": null,
   "id": "13ab8e59",
   "metadata": {},
   "outputs": [],
   "source": []
  },
  {
   "cell_type": "code",
   "execution_count": null,
   "id": "aae22035",
   "metadata": {},
   "outputs": [],
   "source": [
    "import mysql.connector\n",
    "conn=mysql.connector.connect(host=\"localhost\",user=\"root\",password=\"Ann1020\")\n",
    "c=conn.cursor()\n",
    "c.execute(\"create database ann_task2\")\n",
    "\n",
    "c.execute(\"show databases\")\n",
    "for i in c:\n",
    "    print(i)"
   ]
  },
  {
   "cell_type": "code",
   "execution_count": null,
   "id": "c9cc9146",
   "metadata": {},
   "outputs": [],
   "source": []
  },
  {
   "cell_type": "code",
   "execution_count": null,
   "id": "9c95bf5a",
   "metadata": {},
   "outputs": [],
   "source": []
  }
 ],
 "metadata": {
  "kernelspec": {
   "display_name": "Python 3 (ipykernel)",
   "language": "python",
   "name": "python3"
  },
  "language_info": {
   "codemirror_mode": {
    "name": "ipython",
    "version": 3
   },
   "file_extension": ".py",
   "mimetype": "text/x-python",
   "name": "python",
   "nbconvert_exporter": "python",
   "pygments_lexer": "ipython3",
   "version": "3.7.9"
  }
 },
 "nbformat": 4,
 "nbformat_minor": 5
}
